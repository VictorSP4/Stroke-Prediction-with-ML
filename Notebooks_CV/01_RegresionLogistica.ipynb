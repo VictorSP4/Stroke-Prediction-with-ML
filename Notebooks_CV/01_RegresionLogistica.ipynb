{
 "cells": [
  {
   "cell_type": "markdown",
   "metadata": {},
   "source": [
    "# Regresión Logística"
   ]
  },
  {
   "cell_type": "code",
   "execution_count": 156,
   "metadata": {},
   "outputs": [],
   "source": [
    "import pandas as pd\n",
    "import numpy as np\n",
    "import matplotlib.pyplot as plt\n",
    "import seaborn as sns\n",
    "import joblib\n",
    "from sklearn.metrics import confusion_matrix, ConfusionMatrixDisplay\n",
    "from sklearn.model_selection import cross_val_score, StratifiedKFold\n",
    "import matplotlib\n",
    "from imblearn.over_sampling import SMOTE\n",
    "from sklearn.preprocessing import StandardScaler\n",
    "from sklearn.linear_model import LogisticRegression"
   ]
  },
  {
   "cell_type": "code",
   "execution_count": 157,
   "metadata": {},
   "outputs": [],
   "source": [
    "# importamos las métricas que usaremos:\n",
    "from sklearn.metrics import accuracy_score, precision_score, recall_score, f1_score, fbeta_score, make_scorer"
   ]
  },
  {
   "cell_type": "code",
   "execution_count": 158,
   "metadata": {},
   "outputs": [
    {
     "data": {
      "text/html": [
       "<div>\n",
       "<style scoped>\n",
       "    .dataframe tbody tr th:only-of-type {\n",
       "        vertical-align: middle;\n",
       "    }\n",
       "\n",
       "    .dataframe tbody tr th {\n",
       "        vertical-align: top;\n",
       "    }\n",
       "\n",
       "    .dataframe thead th {\n",
       "        text-align: right;\n",
       "    }\n",
       "</style>\n",
       "<table border=\"1\" class=\"dataframe\">\n",
       "  <thead>\n",
       "    <tr style=\"text-align: right;\">\n",
       "      <th></th>\n",
       "      <th>gender</th>\n",
       "      <th>age</th>\n",
       "      <th>hypertension</th>\n",
       "      <th>heart_disease</th>\n",
       "      <th>ever_married</th>\n",
       "      <th>work_type</th>\n",
       "      <th>Residence_type</th>\n",
       "      <th>avg_glucose_level</th>\n",
       "      <th>bmi</th>\n",
       "      <th>smoking_status</th>\n",
       "      <th>stroke</th>\n",
       "    </tr>\n",
       "  </thead>\n",
       "  <tbody>\n",
       "    <tr>\n",
       "      <th>0</th>\n",
       "      <td>0</td>\n",
       "      <td>67.0</td>\n",
       "      <td>0</td>\n",
       "      <td>1</td>\n",
       "      <td>0</td>\n",
       "      <td>0</td>\n",
       "      <td>0</td>\n",
       "      <td>228.69</td>\n",
       "      <td>36.6</td>\n",
       "      <td>0</td>\n",
       "      <td>1</td>\n",
       "    </tr>\n",
       "    <tr>\n",
       "      <th>1</th>\n",
       "      <td>1</td>\n",
       "      <td>61.0</td>\n",
       "      <td>0</td>\n",
       "      <td>0</td>\n",
       "      <td>0</td>\n",
       "      <td>1</td>\n",
       "      <td>1</td>\n",
       "      <td>202.21</td>\n",
       "      <td>30.5</td>\n",
       "      <td>1</td>\n",
       "      <td>1</td>\n",
       "    </tr>\n",
       "    <tr>\n",
       "      <th>2</th>\n",
       "      <td>0</td>\n",
       "      <td>80.0</td>\n",
       "      <td>0</td>\n",
       "      <td>1</td>\n",
       "      <td>0</td>\n",
       "      <td>0</td>\n",
       "      <td>1</td>\n",
       "      <td>105.92</td>\n",
       "      <td>32.5</td>\n",
       "      <td>1</td>\n",
       "      <td>1</td>\n",
       "    </tr>\n",
       "    <tr>\n",
       "      <th>3</th>\n",
       "      <td>1</td>\n",
       "      <td>49.0</td>\n",
       "      <td>0</td>\n",
       "      <td>0</td>\n",
       "      <td>0</td>\n",
       "      <td>0</td>\n",
       "      <td>0</td>\n",
       "      <td>171.23</td>\n",
       "      <td>34.4</td>\n",
       "      <td>2</td>\n",
       "      <td>1</td>\n",
       "    </tr>\n",
       "    <tr>\n",
       "      <th>4</th>\n",
       "      <td>1</td>\n",
       "      <td>79.0</td>\n",
       "      <td>1</td>\n",
       "      <td>0</td>\n",
       "      <td>0</td>\n",
       "      <td>1</td>\n",
       "      <td>1</td>\n",
       "      <td>174.12</td>\n",
       "      <td>24.0</td>\n",
       "      <td>1</td>\n",
       "      <td>1</td>\n",
       "    </tr>\n",
       "  </tbody>\n",
       "</table>\n",
       "</div>"
      ],
      "text/plain": [
       "   gender   age  hypertension  heart_disease  ever_married  work_type  \\\n",
       "0       0  67.0             0              1             0          0   \n",
       "1       1  61.0             0              0             0          1   \n",
       "2       0  80.0             0              1             0          0   \n",
       "3       1  49.0             0              0             0          0   \n",
       "4       1  79.0             1              0             0          1   \n",
       "\n",
       "   Residence_type  avg_glucose_level   bmi  smoking_status  stroke  \n",
       "0               0             228.69  36.6               0       1  \n",
       "1               1             202.21  30.5               1       1  \n",
       "2               1             105.92  32.5               1       1  \n",
       "3               0             171.23  34.4               2       1  \n",
       "4               1             174.12  24.0               1       1  "
      ]
     },
     "execution_count": 158,
     "metadata": {},
     "output_type": "execute_result"
    }
   ],
   "source": [
    "# Importar Dataset como dataframe de pandas\n",
    "df = pd.read_csv(\"../Data/stroke_data.csv\")\n",
    "\n",
    "#tutor\n",
    "# df = pd.read_csv(\"stroke_data.csv\")\n",
    "\n",
    "df.head()"
   ]
  },
  {
   "cell_type": "code",
   "execution_count": 159,
   "metadata": {},
   "outputs": [],
   "source": [
    "# Eliminar filas donde la columna \"age\" es menor a 32\n",
    "# df_filtered = df[df['age'] >= 32]"
   ]
  },
  {
   "cell_type": "code",
   "execution_count": 160,
   "metadata": {},
   "outputs": [
    {
     "name": "stdout",
     "output_type": "stream",
     "text": [
      "(5110, 10) (5110,)\n"
     ]
    }
   ],
   "source": [
    "target_col = 'stroke'\n",
    "\n",
    "X = df.drop([target_col], axis=1)\n",
    "y = df[target_col]\n",
    "\n",
    "y = y.rename(\"stroke\")\n",
    "\n",
    "print(X.shape, y.shape)"
   ]
  },
  {
   "cell_type": "code",
   "execution_count": 161,
   "metadata": {},
   "outputs": [],
   "source": [
    "#separar train y test\n",
    "from sklearn.model_selection import train_test_split\n",
    "X_train, X_test, y_train, y_test = train_test_split(X, y, test_size = 0.3, random_state = 0)"
   ]
  },
  {
   "cell_type": "code",
   "execution_count": 162,
   "metadata": {},
   "outputs": [],
   "source": [
    "from imblearn.pipeline import Pipeline as ImbPipeline\n",
    "\n",
    "# Definir el pipeline con SMOTE, estandarización y el modelo de regresión logística\n",
    "pipeline = ImbPipeline([\n",
    "    ('scaler', StandardScaler()),  # Estandarizar los datos\n",
    "    ('smote', SMOTE(random_state=0)),  # Aplicar SMOTE\n",
    "    ('logreg', LogisticRegression(max_iter=5000, random_state=0))  # Modelo de regresión logística\n",
    "])"
   ]
  },
  {
   "cell_type": "markdown",
   "metadata": {},
   "source": [
    "## Modelo"
   ]
  },
  {
   "cell_type": "code",
   "execution_count": 163,
   "metadata": {},
   "outputs": [
    {
     "name": "stdout",
     "output_type": "stream",
     "text": [
      "Accuracy promedio: 0.7548376762901903\n",
      "Precision promedio: 0.13683635539419509\n",
      "Recall promedio: 0.7626890756302521\n",
      "F3 Score promedio: 0.397447162898101\n"
     ]
    }
   ],
   "source": [
    "from sklearn.base import clone\n",
    "\n",
    "# Función para calcular múltiples métricas\n",
    "def calculate_metrics(estimator, X, y, cv):\n",
    "    accuracy_scores = []\n",
    "    precision_scores = []\n",
    "    recall_scores = []\n",
    "    f3_scores = []\n",
    "    \n",
    "    f3_scorer = make_scorer(fbeta_score, beta=3, zero_division=1)\n",
    "    \n",
    "    for train_index, test_index in cv.split(X, y):\n",
    "        X_train, X_test = X.iloc[train_index], X.iloc[test_index]\n",
    "        y_train, y_test = y.iloc[train_index], y.iloc[test_index]\n",
    "        \n",
    "        model = clone(estimator)\n",
    "        model.fit(X_train, y_train)\n",
    "        \n",
    "        y_pred = model.predict(X_test)\n",
    "        \n",
    "        accuracy_scores.append(accuracy_score(y_test, y_pred))\n",
    "        precision_scores.append(precision_score(y_test, y_pred))\n",
    "        recall_scores.append(recall_score(y_test, y_pred))\n",
    "        f3_scores.append(fbeta_score(y_test, y_pred, beta=2, zero_division=1))\n",
    "    \n",
    "    return {\n",
    "        'accuracy': np.mean(accuracy_scores),\n",
    "        'precision': np.mean(precision_scores),\n",
    "        'recall': np.mean(recall_scores),\n",
    "        'f3_score': np.mean(f3_scores)\n",
    "    }\n",
    "    \n",
    "# Definir validación cruzada\n",
    "cv = StratifiedKFold(n_splits=5, shuffle=True, random_state=0)\n",
    "\n",
    "# Calcular métricas con validación cruzada\n",
    "metrics = calculate_metrics(pipeline, X_train, y_train, cv)\n",
    "\n",
    "# Imprimir los resultados de la validación cruzada\n",
    "print(f\"Accuracy promedio: {metrics['accuracy']}\")\n",
    "print(f\"Precision promedio: {metrics['precision']}\")\n",
    "print(f\"Recall promedio: {metrics['recall']}\")\n",
    "print(f\"F3 Score promedio: {metrics['f3_score']}\")"
   ]
  },
  {
   "cell_type": "markdown",
   "metadata": {},
   "source": [
    "## Optimización de hiperparámetros"
   ]
  },
  {
   "cell_type": "markdown",
   "metadata": {},
   "source": [
    "Queremos mejorar al maximo el recall ya que no queremos diagnosticar a pacientes de sanos cuando estos **SI** presenten la enfermedad"
   ]
  },
  {
   "cell_type": "code",
   "execution_count": 164,
   "metadata": {},
   "outputs": [],
   "source": [
    "from sklearn.model_selection import GridSearchCV"
   ]
  },
  {
   "cell_type": "markdown",
   "metadata": {},
   "source": [
    "### Grid Search"
   ]
  },
  {
   "cell_type": "code",
   "execution_count": 165,
   "metadata": {},
   "outputs": [],
   "source": [
    "# Definir el espacio de búsqueda aleatoria\n",
    "param_dist = {\n",
    "    'logreg__solver': ['liblinear', 'saga'],  # Ejemplo de diferentes solvers\n",
    "    'logreg__penalty': ['l1', 'l2'],  # Diferentes tipos de penalización\n",
    "    'logreg__max_iter': [1000, 5000, 10000, 20000],  # Diferentes valores de iteraciones\n",
    "    'logreg__class_weight': [None],  # Considerar o no la ponderación de clases\n",
    "    'logreg__C': [0.0001, 0.001, 1, 100, 1000, 10000]  # Incluyendo 0 y otros valores de C\n",
    "}"
   ]
  },
  {
   "cell_type": "code",
   "execution_count": 166,
   "metadata": {},
   "outputs": [
    {
     "name": "stdout",
     "output_type": "stream",
     "text": [
      "Fitting 5 folds for each of 96 candidates, totalling 480 fits\n",
      "Mejores parámetros de Random Search: {'logreg__C': 0.001, 'logreg__class_weight': None, 'logreg__max_iter': 1000, 'logreg__penalty': 'l1', 'logreg__solver': 'saga'}\n",
      "Best score:  0.5469567145999783\n"
     ]
    }
   ],
   "source": [
    "from sklearn.metrics import make_scorer, fbeta_score\n",
    "# Definir el f3 score como métrica de evaluación\n",
    "f3_scorer = make_scorer(fbeta_score, beta=3, zero_division=1)\n",
    "\n",
    "# Configurar RandomizedSearchCV\n",
    "grid_search = GridSearchCV(\n",
    "    estimator=pipeline,\n",
    "    param_grid=param_dist,\n",
    "    cv=5,  # Número de pliegues en validación cruzada\n",
    "    scoring=f3_scorer,  # Métrica para evaluar el rendimiento\n",
    "    n_jobs=-1,  # Usa todos los núcleos disponibles\n",
    "    verbose=1\n",
    ")\n",
    "\n",
    "# Ajustar RandomizedSearchCV a los datos de entrenamiento\n",
    "grid_search.fit(X_train, y_train)\n",
    "\n",
    "# Obtener los mejores parámetros encontrados por Random Search\n",
    "best_params_random = grid_search.best_params_\n",
    "print(\"Mejores parámetros de Random Search:\", best_params_random)\n",
    "print(\"Best score: \", grid_search.best_score_)"
   ]
  },
  {
   "cell_type": "code",
   "execution_count": 167,
   "metadata": {},
   "outputs": [
    {
     "name": "stdout",
     "output_type": "stream",
     "text": [
      "Accuracy promedio: 0.707868500214869\n",
      "Precision promedio: 0.12746289538742367\n",
      "Recall promedio: 0.8608403361344538\n",
      "F3 Score promedio: 0.39972460699858214\n"
     ]
    }
   ],
   "source": [
    "# Definir validación cruzada\n",
    "cv = StratifiedKFold(n_splits=5, shuffle=True, random_state=0)\n",
    "\n",
    "#Instanciamos el mejor modelo con los hiperparametros del grid\n",
    "best_model = grid_search.best_estimator_\n",
    "\n",
    "# Calcular métricas con validación cruzada\n",
    "metrics = calculate_metrics(best_model, X_train, y_train, cv)\n",
    "\n",
    "# Imprimir los resultados de la validación cruzada\n",
    "print(f\"Accuracy promedio: {metrics['accuracy']}\")\n",
    "print(f\"Precision promedio: {metrics['precision']}\")\n",
    "print(f\"Recall promedio: {metrics['recall']}\")\n",
    "print(f\"F3 Score promedio: {metrics['f3_score']}\")"
   ]
  },
  {
   "cell_type": "code",
   "execution_count": 168,
   "metadata": {},
   "outputs": [
    {
     "name": "stdout",
     "output_type": "stream",
     "text": [
      "Accuracy: 0.7136333985649054\n",
      "Precision: 0.12422360248447205\n",
      "Recall: 0.7894736842105263\n",
      "F1 Score: 0.2146690518783542\n",
      "F3 Score: 0.5141388174807198\n"
     ]
    },
    {
     "data": {
      "image/png": "[encoded data removed]",
      "text/plain": [
       "<Figure size 640x480 with 2 Axes>"
      ]
     },
     "metadata": {},
     "output_type": "display_data"
    }
   ],
   "source": [
    "import matplotlib.pyplot as plt\n",
    "from sklearn.metrics import accuracy_score, precision_score, recall_score, f1_score, fbeta_score, confusion_matrix, ConfusionMatrixDisplay\n",
    "import matplotlib as mpl\n",
    "\n",
    "# Configurar la fuente a Times New Roman y aumentar el tamaño de la fuente\n",
    "mpl.rcParams['font.family'] = 'Times New Roman'\n",
    "mpl.rcParams['font.size'] = 18  # Aumentar el tamaño de la fuente a 14 (puedes cambiar este valor)\n",
    "\n",
    "# Realizar predicciones en el conjunto de prueba\n",
    "y_pred_op = best_model.predict(X_test)\n",
    "\n",
    "# Calcular las métricas\n",
    "accuracy = accuracy_score(y_test, y_pred_op)\n",
    "precision = precision_score(y_test, y_pred_op)\n",
    "recall = recall_score(y_test, y_pred_op)\n",
    "f1 = f1_score(y_test, y_pred_op)\n",
    "f3 = fbeta_score(y_test, y_pred_op, beta=3, zero_division=1)\n",
    "\n",
    "# Imprimir las métricas\n",
    "print(\"Accuracy:\", accuracy)\n",
    "print(\"Precision:\", precision)\n",
    "print(\"Recall:\", recall)\n",
    "print(\"F1 Score:\", f1)\n",
    "print(\"F3 Score:\", f3)\n",
    "\n",
    "# Generar la matriz de confusión\n",
    "cm = confusion_matrix(y_test, y_pred_op)\n",
    "disp = ConfusionMatrixDisplay(confusion_matrix=cm)\n",
    "disp.plot(cmap=plt.cm.Blues)\n",
    "\n",
    "# Ajustar título y mostrar la matriz de confusión\n",
    "plt.title('Matriz de Confusión', fontsize=20)  # Tamaño de fuente específico para el título\n",
    "plt.show()"
   ]
  },
  {
   "cell_type": "markdown",
   "metadata": {},
   "source": [
    "# Guardar Modelo"
   ]
  },
  {
   "cell_type": "code",
   "execution_count": 169,
   "metadata": {},
   "outputs": [
    {
     "data": {
      "text/plain": [
       "['../Modelos/RegresionLogistica.joblib']"
      ]
     },
     "execution_count": 169,
     "metadata": {},
     "output_type": "execute_result"
    }
   ],
   "source": [
    "joblib.dump(best_model, \"../Modelos/RegresionLogistica.joblib\")"
   ]
  },
  {
   "cell_type": "code",
   "execution_count": 170,
   "metadata": {},
   "outputs": [
    {
     "name": "stdout",
     "output_type": "stream",
     "text": [
      "Accuracy: 0.7136333985649054\n",
      "Precision: 0.12422360248447205\n",
      "Recall: 0.7894736842105263\n",
      "F1 Score: 0.2146690518783542\n",
      "F3 Score: 0.5141388174807198\n"
     ]
    },
    {
     "data": {
      "text/plain": [
       "<sklearn.metrics._plot.confusion_matrix.ConfusionMatrixDisplay at 0x230a537fc10>"
      ]
     },
     "execution_count": 170,
     "metadata": {},
     "output_type": "execute_result"
    },
    {
     "data": {
      "image/png": "[encoded data removed]",
      "text/plain": [
       "<Figure size 640x480 with 2 Axes>"
      ]
     },
     "metadata": {},
     "output_type": "display_data"
    }
   ],
   "source": [
    "# Acceder al modelo dentro de la pipeline\n",
    "model = pipeline.named_steps['logreg']\n",
    "\n",
    "# Acceder al modelo dentro de la pipeline\n",
    "model = pipeline.named_steps['logreg']\n",
    "\n",
    "# Configurar la fuente a Times New Roman y aumentar el tamaño de la fuente\n",
    "mpl.rcParams['font.family'] = 'Times New Roman'\n",
    "mpl.rcParams['font.size'] = 18  # Aumentar el tamaño de la fuente a 14 (puedes cambiar este valor)\n",
    "\n",
    "# Realizar predicciones en el conjunto de prueba\n",
    "y_pred_op = best_model.predict(X_test)\n",
    "\n",
    "# Calcular las métricas\n",
    "accuracy = accuracy_score(y_test, y_pred_op)\n",
    "precision = precision_score(y_test, y_pred_op)\n",
    "recall = recall_score(y_test, y_pred_op)\n",
    "f1 = f1_score(y_test, y_pred_op)\n",
    "f3 = fbeta_score(y_test, y_pred_op, beta=3, zero_division=1)\n",
    "\n",
    "# Imprimir las métricas\n",
    "print(\"Accuracy:\", accuracy)\n",
    "print(\"Precision:\", precision)\n",
    "print(\"Recall:\", recall)\n",
    "print(\"F1 Score:\", f1)\n",
    "print(\"F3 Score:\", f3)\n",
    "\n",
    "# Generar la matriz de confusión\n",
    "cm = confusion_matrix(y_test, y_pred_op)\n",
    "disp = ConfusionMatrixDisplay(confusion_matrix=cm)\n",
    "disp.plot(cmap=plt.cm.Blues)\n",
    "\n",
    "# Ajustar título y mostrar la matriz de confusión\n",
    "\n"
   ]
  }
 ],
 "metadata": {
  "kernelspec": {
   "display_name": ".venv",
   "language": "python",
   "name": "python3"
  },
  "language_info": {
   "codemirror_mode": {
    "name": "ipython",
    "version": 3
   },
   "file_extension": ".py",
   "mimetype": "text/x-python",
   "name": "python",
   "nbconvert_exporter": "python",
   "pygments_lexer": "ipython3",
   "version": "3.9.13"
  }
 },
 "nbformat": 4,
 "nbformat_minor": 2
}
