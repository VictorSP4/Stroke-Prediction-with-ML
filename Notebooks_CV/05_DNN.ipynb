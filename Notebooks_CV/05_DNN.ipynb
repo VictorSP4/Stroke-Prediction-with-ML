{
 "cells": [
  {
   "cell_type": "markdown",
   "metadata": {},
   "source": [
    "# Red Neuronal Densa de Clasificación"
   ]
  },
  {
   "cell_type": "code",
   "execution_count": 1,
   "metadata": {},
   "outputs": [],
   "source": [
    "import pandas as pd\n",
    "import numpy as np\n",
    "import matplotlib.pyplot as plt\n",
    "from sklearn.metrics import confusion_matrix, ConfusionMatrixDisplay\n",
    "from imblearn.over_sampling import SMOTE\n",
    "from sklearn.preprocessing import StandardScaler"
   ]
  },
  {
   "cell_type": "code",
   "execution_count": 2,
   "metadata": {},
   "outputs": [],
   "source": [
    "#Librerias de keras\n",
    "from scikeras.wrappers import KerasClassifier\n",
    "from tensorflow.keras.models import Sequential\n",
    "from tensorflow.keras.layers import Dense, Dropout, Input\n",
    "from tensorflow.keras.optimizers import Adam"
   ]
  },
  {
   "cell_type": "code",
   "execution_count": 3,
   "metadata": {},
   "outputs": [],
   "source": [
    "# importamos las métricas que usaremos:\n",
    "from sklearn.metrics import accuracy_score, precision_score, recall_score, f1_score, fbeta_score, make_scorer"
   ]
  },
  {
   "cell_type": "code",
   "execution_count": 4,
   "metadata": {},
   "outputs": [
    {
     "data": {
      "text/plain": [
       "(5110, 11)"
      ]
     },
     "execution_count": 4,
     "metadata": {},
     "output_type": "execute_result"
    }
   ],
   "source": [
    "# Importar Dataset como dataframe de pandas\n",
    "df = pd.read_csv(\"../Data/stroke_data.csv\")\n",
    "\n",
    "#tutor\n",
    "# df = pd.read_csv(\"stroke_data.csv\")\n",
    "\n",
    "df.shape"
   ]
  },
  {
   "cell_type": "code",
   "execution_count": 5,
   "metadata": {},
   "outputs": [
    {
     "name": "stdout",
     "output_type": "stream",
     "text": [
      "(5110, 10) (5110,)\n"
     ]
    }
   ],
   "source": [
    "target_col = 'stroke'\n",
    "\n",
    "X = df.drop([target_col], axis=1)\n",
    "y = df[target_col]\n",
    "\n",
    "y = y.rename(\"stroke\")\n",
    "\n",
    "print(X.shape, y.shape)"
   ]
  },
  {
   "cell_type": "code",
   "execution_count": 6,
   "metadata": {},
   "outputs": [],
   "source": [
    "# Asegúrate de que X_train es un array de NumPy\n",
    "if not isinstance(X, np.ndarray):\n",
    "    X_train = np.array(X)\n",
    "\n",
    "# Asegúrate de que y_train es un array de NumPy\n",
    "if not isinstance(y, np.ndarray):\n",
    "    y_train = np.array(y)"
   ]
  },
  {
   "cell_type": "code",
   "execution_count": 7,
   "metadata": {},
   "outputs": [],
   "source": [
    "#separar train y test\n",
    "from sklearn.model_selection import train_test_split\n",
    "X_train, X_test, y_train, y_test = train_test_split(X, y, test_size = 0.3, random_state = 0)"
   ]
  },
  {
   "cell_type": "markdown",
   "metadata": {},
   "source": [
    "## Modelo"
   ]
  },
  {
   "cell_type": "code",
   "execution_count": 8,
   "metadata": {},
   "outputs": [],
   "source": [
    "#Necesitamos añadir el número de características (features para la dimension del input)\n",
    "num_features = X_train.shape[1]"
   ]
  },
  {
   "cell_type": "markdown",
   "metadata": {},
   "source": [
    "**Nota:**\n",
    "\n",
    "Para poder incluir el número de capas en la búsqueda de hiperparametros hay que añadir un bulce for."
   ]
  },
  {
   "cell_type": "code",
   "execution_count": 9,
   "metadata": {},
   "outputs": [],
   "source": [
    "def create_model(optimizer='adam', activation='relu', dropout_rate=0.5, neurons=64, num_layers=1):\n",
    "    model = Sequential()\n",
    "    \n",
    "    # Capa de entrada\n",
    "    model.add(Input(shape=(num_features,)))\n",
    "    \n",
    "    # Añadir capas ocultas de acuerdo a num_layers\n",
    "    for i in range(num_layers):\n",
    "        model.add(Dense(neurons, activation=activation))\n",
    "        model.add(Dropout(dropout_rate))\n",
    "        neurons = neurons // 2  # Opcional: reducir el número de neuronas en cada capa\n",
    "\n",
    "    # Capa de salida\n",
    "    model.add(Dense(1, activation='sigmoid'))\n",
    "    \n",
    "    # Compilar el modelo\n",
    "    model.compile(optimizer=optimizer,\n",
    "                  loss='binary_crossentropy',\n",
    "                  metrics=['accuracy'])\n",
    "    return model\n"
   ]
  },
  {
   "cell_type": "code",
   "execution_count": 10,
   "metadata": {},
   "outputs": [],
   "source": [
    "# Crear el clasificador Keras\n",
    "keras_clf = KerasClassifier(model=create_model, epochs=50, batch_size=32, verbose=0)"
   ]
  },
  {
   "cell_type": "code",
   "execution_count": 11,
   "metadata": {},
   "outputs": [],
   "source": [
    "from imblearn.pipeline import Pipeline as ImbPipeline\n",
    "\n",
    "# Definir el pipeline con SMOTE, estandarización y el modelo Keras\n",
    "pipeline = ImbPipeline([\n",
    "    ('scaler', StandardScaler()),  # Estandarizar los datos\n",
    "    ('smote', SMOTE(random_state=0)),  # Aplicar SMOTE\n",
    "    ('keras', keras_clf)  # Modelo de clasificación con red neuronal\n",
    "])"
   ]
  },
  {
   "cell_type": "markdown",
   "metadata": {},
   "source": [
    "# CV del modelo"
   ]
  },
  {
   "cell_type": "code",
   "execution_count": 12,
   "metadata": {},
   "outputs": [
    {
     "name": "stdout",
     "output_type": "stream",
     "text": [
      "Accuracy promedio: 0.77580966519514\n",
      "Precision promedio: 0.12426091964907529\n",
      "Recall promedio: 0.6\n",
      "F3 Score promedio: 0.33745167987129\n"
     ]
    }
   ],
   "source": [
    "from sklearn.base import clone\n",
    "from sklearn.model_selection import StratifiedKFold\n",
    "\n",
    "# importamos las métricas que usaremos:\n",
    "from sklearn.metrics import accuracy_score, precision_score, recall_score, f1_score, fbeta_score, make_scorer\n",
    "\n",
    "\n",
    "# Función para calcular múltiples métricas\n",
    "def calculate_metrics(estimator, X, y, cv):\n",
    "    accuracy_scores = []\n",
    "    precision_scores = []\n",
    "    recall_scores = []\n",
    "    f3_scores = []\n",
    "    \n",
    "    f3_scorer = make_scorer(fbeta_score, beta=3, zero_division=1)\n",
    "    \n",
    "    for train_index, test_index in cv.split(X, y):\n",
    "        X_train, X_test = X.iloc[train_index], X.iloc[test_index]\n",
    "        y_train, y_test = y.iloc[train_index], y.iloc[test_index]\n",
    "        \n",
    "        model = clone(estimator)\n",
    "        model.fit(X_train, y_train)\n",
    "        \n",
    "        y_pred = model.predict(X_test)\n",
    "        \n",
    "        accuracy_scores.append(accuracy_score(y_test, y_pred))\n",
    "        precision_scores.append(precision_score(y_test, y_pred))\n",
    "        recall_scores.append(recall_score(y_test, y_pred))\n",
    "        f3_scores.append(fbeta_score(y_test, y_pred, beta=2, zero_division=1))\n",
    "    \n",
    "    return {\n",
    "        'accuracy': np.mean(accuracy_scores),\n",
    "        'precision': np.mean(precision_scores),\n",
    "        'recall': np.mean(recall_scores),\n",
    "        'f3_score': np.mean(f3_scores)\n",
    "    }\n",
    "\n",
    "# Definir validación cruzada\n",
    "cv = StratifiedKFold(n_splits=5, shuffle=True, random_state=0)\n",
    "\n",
    "# Calcular métricas con validación cruzada\n",
    "metrics = calculate_metrics(pipeline, X_train, y_train, cv)\n",
    "\n",
    "# Imprimir los resultados de la validación cruzada\n",
    "print(f\"Accuracy promedio: {metrics['accuracy']}\")\n",
    "print(f\"Precision promedio: {metrics['precision']}\")\n",
    "print(f\"Recall promedio: {metrics['recall']}\")\n",
    "print(f\"F3 Score promedio: {metrics['f3_score']}\")"
   ]
  },
  {
   "cell_type": "markdown",
   "metadata": {},
   "source": [
    "# Optimización de hiperparámetros"
   ]
  },
  {
   "cell_type": "code",
   "execution_count": 13,
   "metadata": {},
   "outputs": [],
   "source": [
    "from sklearn.model_selection import GridSearchCV\n",
    "\n",
    "param_distributions = {\n",
    "    'keras__model__optimizer': ['adam'],\n",
    "    'keras__model__activation': ['relu', 'tanh', 'sigmoid', 'elu'],\n",
    "    'keras__model__dropout_rate': [0.1, 0.3, 0.5],\n",
    "    'keras__model__neurons': [32, 64, 128],\n",
    "    'keras__model__num_layers': [1, 2, 3, 4],\n",
    "    'keras__epochs': [50, 100],\n",
    "    'keras__batch_size': [16, 32, 64]\n",
    "}"
   ]
  },
  {
   "cell_type": "code",
   "execution_count": 14,
   "metadata": {},
   "outputs": [
    {
     "name": "stdout",
     "output_type": "stream",
     "text": [
      "Fitting 5 folds for each of 864 candidates, totalling 4320 fits\n"
     ]
    },
    {
     "name": "stderr",
     "output_type": "stream",
     "text": [
      "c:\\Users\\vgarc\\Documents\\TFM\\.venv\\lib\\site-packages\\joblib\\externals\\loky\\process_executor.py:752: UserWarning: A worker stopped while some jobs were given to the executor. This can be caused by a too short worker timeout or by a memory leak.\n",
      "  warnings.warn(\n"
     ]
    },
    {
     "name": "stdout",
     "output_type": "stream",
     "text": [
      "Mejores parámetros de Random Search: {'keras__batch_size': 64, 'keras__epochs': 50, 'keras__model__activation': 'sigmoid', 'keras__model__dropout_rate': 0.1, 'keras__model__neurons': 64, 'keras__model__num_layers': 1, 'keras__model__optimizer': 'adam'}\n",
      "Best score:  0.5245124164251683\n"
     ]
    }
   ],
   "source": [
    "from sklearn.metrics import make_scorer, fbeta_score\n",
    "# Definir el f3 score como métrica de evaluación\n",
    "f3_scorer = make_scorer(fbeta_score, beta=3, zero_division=1)\n",
    "\n",
    "# Configurar RandomizedSearchCV\n",
    "grid_search = GridSearchCV(\n",
    "    estimator=pipeline,\n",
    "    param_grid=param_distributions,\n",
    "    cv=5,  # Número de pliegues en validación cruzada\n",
    "    scoring=f3_scorer,  # Métrica para evaluar el rendimiento\n",
    "    n_jobs=-1,  # Usa todos los núcleos disponibles\n",
    "    verbose=1\n",
    ")\n",
    "\n",
    "# Ajustar RandomizedSearchCV a los datos de entrenamiento\n",
    "grid_search.fit(X_train, y_train)\n",
    "\n",
    "# Obtener los mejores parámetros encontrados por Random Search\n",
    "best_params_random = grid_search.best_params_\n",
    "print(\"Mejores parámetros de Random Search:\", best_params_random)\n",
    "print(\"Best score: \", grid_search.best_score_)"
   ]
  },
  {
   "cell_type": "code",
   "execution_count": 15,
   "metadata": {},
   "outputs": [
    {
     "name": "stdout",
     "output_type": "stream",
     "text": [
      "Accuracy promedio: 0.7411427120365668\n",
      "Precision promedio: 0.1321462250220085\n",
      "Recall promedio: 0.7742857142857144\n",
      "F3 Score promedio: 0.3913908758188718\n"
     ]
    }
   ],
   "source": [
    "# Definir validación cruzada\n",
    "cv = StratifiedKFold(n_splits=5, shuffle=True, random_state=0)\n",
    "\n",
    "#Instanciamos el mejor modelo con los hiperparametros del grid\n",
    "best_model = grid_search.best_estimator_\n",
    "\n",
    "# Calcular métricas con validación cruzada\n",
    "metrics = calculate_metrics(best_model, X_train, y_train, cv)\n",
    "\n",
    "# Imprimir los resultados de la validación cruzada\n",
    "print(f\"Accuracy promedio: {metrics['accuracy']}\")\n",
    "print(f\"Precision promedio: {metrics['precision']}\")\n",
    "print(f\"Recall promedio: {metrics['recall']}\")\n",
    "print(f\"F3 Score promedio: {metrics['f3_score']}\")"
   ]
  },
  {
   "cell_type": "code",
   "execution_count": 16,
   "metadata": {},
   "outputs": [
    {
     "name": "stdout",
     "output_type": "stream",
     "text": [
      "Accuracy: 0.7475538160469667\n",
      "Precision: 0.13238770685579196\n",
      "Recall: 0.7368421052631579\n",
      "F1 Score: 0.22444889779559118\n",
      "F3 Score: 0.5058717253839206\n"
     ]
    },
    {
     "data": {
      "image/png": "[encoded data removed]",
      "text/plain": [
       "<Figure size 640x480 with 2 Axes>"
      ]
     },
     "metadata": {},
     "output_type": "display_data"
    }
   ],
   "source": [
    "import matplotlib.pyplot as plt\n",
    "from sklearn.metrics import accuracy_score, precision_score, recall_score, f1_score, fbeta_score, confusion_matrix, ConfusionMatrixDisplay\n",
    "import matplotlib as mpl\n",
    "\n",
    "# Configurar la fuente a Times New Roman y aumentar el tamaño de la fuente\n",
    "mpl.rcParams['font.family'] = 'Times New Roman'\n",
    "mpl.rcParams['font.size'] = 18  # Aumentar el tamaño de la fuente a 14 (puedes cambiar este valor)\n",
    "\n",
    "# Realizar predicciones en el conjunto de prueba\n",
    "y_pred_op = best_model.predict(X_test)\n",
    "\n",
    "# Calcular las métricas\n",
    "accuracy = accuracy_score(y_test, y_pred_op)\n",
    "precision = precision_score(y_test, y_pred_op)\n",
    "recall = recall_score(y_test, y_pred_op)\n",
    "f1 = f1_score(y_test, y_pred_op)\n",
    "f3 = fbeta_score(y_test, y_pred_op, beta=3, zero_division=1)\n",
    "\n",
    "# Imprimir las métricas\n",
    "print(\"Accuracy:\", accuracy)\n",
    "print(\"Precision:\", precision)\n",
    "print(\"Recall:\", recall)\n",
    "print(\"F1 Score:\", f1)\n",
    "print(\"F3 Score:\", f3)\n",
    "\n",
    "# Generar la matriz de confusión\n",
    "cm = confusion_matrix(y_test, y_pred_op)\n",
    "disp = ConfusionMatrixDisplay(confusion_matrix=cm)\n",
    "disp.plot(cmap=plt.cm.Blues)\n",
    "\n",
    "# Ajustar título y mostrar la matriz de confusión\n",
    "plt.title('Matriz de Confusión', fontsize=20)  # Tamaño de fuente específico para el título\n",
    "plt.show()"
   ]
  },
  {
   "cell_type": "markdown",
   "metadata": {},
   "source": [
    "# Guardar Modelo"
   ]
  },
  {
   "cell_type": "code",
   "execution_count": 17,
   "metadata": {},
   "outputs": [
    {
     "data": {
      "text/plain": [
       "['../Modelos/DNNClasiffier.pkl']"
      ]
     },
     "execution_count": 17,
     "metadata": {},
     "output_type": "execute_result"
    }
   ],
   "source": [
    "import joblib\n",
    "\n",
    "# Guardar la pipeline completa\n",
    "joblib.dump(best_model, '../Modelos/DNNClasiffier.pkl')"
   ]
  },
  {
   "cell_type": "markdown",
   "metadata": {},
   "source": [
    "# Modelo 1 neurona"
   ]
  },
  {
   "cell_type": "code",
   "execution_count": 18,
   "metadata": {},
   "outputs": [
    {
     "name": "stderr",
     "output_type": "stream",
     "text": [
      "c:\\Users\\vgarc\\Documents\\TFM\\.venv\\lib\\site-packages\\keras\\src\\layers\\core\\dense.py:87: UserWarning: Do not pass an `input_shape`/`input_dim` argument to a layer. When using Sequential models, prefer using an `Input(shape)` object as the first layer in the model instead.\n",
      "  super().__init__(activity_regularizer=activity_regularizer, **kwargs)\n"
     ]
    },
    {
     "name": "stdout",
     "output_type": "stream",
     "text": [
      "Accuracy promedio: 0.8054400906356214\n",
      "Precision promedio: 0.1210055206936862\n",
      "Recall promedio: 0.4798319327731092\n"
     ]
    },
    {
     "ename": "KeyError",
     "evalue": "'f2_score'",
     "output_type": "error",
     "traceback": [
      "\u001b[1;31m---------------------------------------------------------------------------\u001b[0m",
      "\u001b[1;31mKeyError\u001b[0m                                  Traceback (most recent call last)",
      "Cell \u001b[1;32mIn[18], line 28\u001b[0m\n\u001b[0;32m     26\u001b[0m \u001b[38;5;28mprint\u001b[39m(\u001b[38;5;124mf\u001b[39m\u001b[38;5;124m\"\u001b[39m\u001b[38;5;124mPrecision promedio: \u001b[39m\u001b[38;5;132;01m{\u001b[39;00mmetrics[\u001b[38;5;124m'\u001b[39m\u001b[38;5;124mprecision\u001b[39m\u001b[38;5;124m'\u001b[39m]\u001b[38;5;132;01m}\u001b[39;00m\u001b[38;5;124m\"\u001b[39m)\n\u001b[0;32m     27\u001b[0m \u001b[38;5;28mprint\u001b[39m(\u001b[38;5;124mf\u001b[39m\u001b[38;5;124m\"\u001b[39m\u001b[38;5;124mRecall promedio: \u001b[39m\u001b[38;5;132;01m{\u001b[39;00mmetrics[\u001b[38;5;124m'\u001b[39m\u001b[38;5;124mrecall\u001b[39m\u001b[38;5;124m'\u001b[39m]\u001b[38;5;132;01m}\u001b[39;00m\u001b[38;5;124m\"\u001b[39m)\n\u001b[1;32m---> 28\u001b[0m \u001b[38;5;28mprint\u001b[39m(\u001b[38;5;124mf\u001b[39m\u001b[38;5;124m\"\u001b[39m\u001b[38;5;124mF2 Score promedio: \u001b[39m\u001b[38;5;132;01m{\u001b[39;00mmetrics[\u001b[38;5;124m'\u001b[39m\u001b[38;5;124mf2_score\u001b[39m\u001b[38;5;124m'\u001b[39m]\u001b[38;5;132;01m}\u001b[39;00m\u001b[38;5;124m\"\u001b[39m)\n",
      "\u001b[1;31mKeyError\u001b[0m: 'f2_score'"
     ]
    }
   ],
   "source": [
    "# Añadir una capa densa con una sola neurona y activación sigmoide\n",
    "# Definir el modelo\n",
    "model = Sequential()\n",
    "model.add(Dense(1, input_dim=X_train.shape[1], activation='sigmoid'))\n",
    "# Compilar el modelo\n",
    "model.compile(optimizer=\"adam\", loss='binary_crossentropy', metrics=['accuracy'])\n",
    "\n",
    "# Crear el clasificador Keras\n",
    "keras_clf = KerasClassifier(model=create_model, epochs=50, batch_size=32, verbose=0)\n",
    "\n",
    "\n",
    "pipeline = ImbPipeline([\n",
    "    ('smote', SMOTE(random_state=0)),  # Aplicar SMOTE para balancear las clases\n",
    "    ('scaler', StandardScaler()),  # Estandarizar los datos\n",
    "    ('keras', keras_clf)  # Modelo de clasificación con red neuronal\n",
    "])\n",
    "\n",
    "# Definir validación cruzada\n",
    "cv = StratifiedKFold(n_splits=5, shuffle=True, random_state=0)\n",
    "\n",
    "# Calcular métricas con validación cruzada\n",
    "metrics = calculate_metrics(pipeline, X_train, y_train, cv)\n",
    "\n",
    "# Imprimir los resultados de la validación cruzada\n",
    "print(f\"Accuracy promedio: {metrics['accuracy']}\")\n",
    "print(f\"Precision promedio: {metrics['precision']}\")\n",
    "print(f\"Recall promedio: {metrics['recall']}\")\n",
    "print(f\"F2 Score promedio: {metrics['f2_score']}\")"
   ]
  },
  {
   "cell_type": "code",
   "execution_count": null,
   "metadata": {},
   "outputs": [],
   "source": []
  }
 ],
 "metadata": {
  "kernelspec": {
   "display_name": ".venv",
   "language": "python",
   "name": "python3"
  },
  "language_info": {
   "codemirror_mode": {
    "name": "ipython",
    "version": 3
   },
   "file_extension": ".py",
   "mimetype": "text/x-python",
   "name": "python",
   "nbconvert_exporter": "python",
   "pygments_lexer": "ipython3",
   "version": "3.9.13"
  }
 },
 "nbformat": 4,
 "nbformat_minor": 2
}
